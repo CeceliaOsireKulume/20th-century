{
 "cells": [
  {
   "cell_type": "code",
   "execution_count": 1,
   "id": "3a35aeeb-1872-4d0e-8868-e617dad78f0c",
   "metadata": {},
   "outputs": [],
   "source": [
    "import pandas as pd"
   ]
  },
  {
   "cell_type": "code",
   "execution_count": 2,
   "id": "de869f74-eeac-46ef-9b0d-5af7e0d296c5",
   "metadata": {},
   "outputs": [],
   "source": [
    "## !pip install numpy pandas"
   ]
  },
  {
   "cell_type": "markdown",
   "id": "54ccf750-4b30-44d6-887b-b95b0a4793b5",
   "metadata": {},
   "source": [
    "## Qn. 2"
   ]
  },
  {
   "cell_type": "markdown",
   "id": "42765347-75f6-4ec3-b579-be8221af173a",
   "metadata": {},
   "source": [
    "### I downloaded the entire webpage as a PDF using GoFullPage Google Chrome extension which downloads it as a PDF."
   ]
  },
  {
   "cell_type": "code",
   "execution_count": 3,
   "id": "98faf273-7459-4051-8867-ad35438d4c55",
   "metadata": {},
   "outputs": [
    {
     "name": "stdout",
     "output_type": "stream",
     "text": [
      "Looking in indexes: https://test.pypi.org/simple/\n",
      "Requirement already satisfied: selenium in c:\\users\\25670\\anaconda3\\envs\\venv_20th_century\\lib\\site-packages (4.0.0)\n",
      "Requirement already satisfied: urllib3~=1.26 in c:\\users\\25670\\anaconda3\\envs\\venv_20th_century\\lib\\site-packages (from urllib3[secure]~=1.26->selenium) (1.26.20)\n",
      "Requirement already satisfied: trio~=0.17 in c:\\users\\25670\\anaconda3\\envs\\venv_20th_century\\lib\\site-packages (from selenium) (0.28.0)\n",
      "Requirement already satisfied: trio-websocket~=0.9 in c:\\users\\25670\\anaconda3\\envs\\venv_20th_century\\lib\\site-packages (from selenium) (0.11.1)\n",
      "Requirement already satisfied: attrs>=23.2.0 in c:\\users\\25670\\anaconda3\\envs\\venv_20th_century\\lib\\site-packages (from trio~=0.17->selenium) (24.3.0)\n",
      "Requirement already satisfied: sortedcontainers in c:\\users\\25670\\anaconda3\\envs\\venv_20th_century\\lib\\site-packages (from trio~=0.17->selenium) (2.4.0)\n",
      "Requirement already satisfied: idna in c:\\users\\25670\\anaconda3\\envs\\venv_20th_century\\lib\\site-packages (from trio~=0.17->selenium) (3.10)\n",
      "Requirement already satisfied: outcome in c:\\users\\25670\\anaconda3\\envs\\venv_20th_century\\lib\\site-packages (from trio~=0.17->selenium) (1.3.0.post0)\n",
      "Requirement already satisfied: sniffio>=1.3.0 in c:\\users\\25670\\anaconda3\\envs\\venv_20th_century\\lib\\site-packages (from trio~=0.17->selenium) (1.3.1)\n",
      "Requirement already satisfied: cffi>=1.14 in c:\\users\\25670\\anaconda3\\envs\\venv_20th_century\\lib\\site-packages (from trio~=0.17->selenium) (1.17.1)\n",
      "Requirement already satisfied: wsproto>=0.14 in c:\\users\\25670\\anaconda3\\envs\\venv_20th_century\\lib\\site-packages (from trio-websocket~=0.9->selenium) (1.2.0)\n",
      "Requirement already satisfied: pyOpenSSL>=0.14 in c:\\users\\25670\\anaconda3\\envs\\venv_20th_century\\lib\\site-packages (from urllib3[secure]~=1.26->selenium) (24.3.0)\n",
      "Requirement already satisfied: cryptography>=1.3.4 in c:\\users\\25670\\anaconda3\\envs\\venv_20th_century\\lib\\site-packages (from urllib3[secure]~=1.26->selenium) (44.0.0)\n",
      "Requirement already satisfied: certifi in c:\\users\\25670\\anaconda3\\envs\\venv_20th_century\\lib\\site-packages (from urllib3[secure]~=1.26->selenium) (2024.12.14)\n",
      "Requirement already satisfied: urllib3-secure-extra in c:\\users\\25670\\anaconda3\\envs\\venv_20th_century\\lib\\site-packages (from urllib3[secure]~=1.26->selenium) (0.1.0)\n",
      "Requirement already satisfied: pycparser in c:\\users\\25670\\anaconda3\\envs\\venv_20th_century\\lib\\site-packages (from cffi>=1.14->trio~=0.17->selenium) (2.22)\n",
      "Requirement already satisfied: h11<1,>=0.9.0 in c:\\users\\25670\\anaconda3\\envs\\venv_20th_century\\lib\\site-packages (from wsproto>=0.14->trio-websocket~=0.9->selenium) (0.14.0)\n"
     ]
    }
   ],
   "source": [
    "!pip install -i https://test.pypi.org/simple/ selenium"
   ]
  },
  {
   "cell_type": "markdown",
   "id": "2d8c2ac7-2ee4-4c21-aa76-eda7a1433e84",
   "metadata": {},
   "source": [
    "## qn. 3"
   ]
  },
  {
   "cell_type": "markdown",
   "id": "01eb4a92-e9e9-42eb-812e-a27cf49c4e3d",
   "metadata": {},
   "source": [
    "### Installing other required libraries & other Software"
   ]
  },
  {
   "cell_type": "markdown",
   "id": "359011d7-a460-4832-ae3f-6e5a31e2c62f",
   "metadata": {},
   "source": [
    "###  Installed the requirements in the text file using the Terminal successfully."
   ]
  },
  {
   "cell_type": "markdown",
   "id": "91e1d1ee-ca69-47c6-93bb-33403a1c081a",
   "metadata": {},
   "source": [
    "## qn. 4"
   ]
  },
  {
   "cell_type": "markdown",
   "id": "33aeca7b-33a9-4a48-b746-4bbab1b6894d",
   "metadata": {},
   "source": [
    "### Download ChromeDriver and Install"
   ]
  },
  {
   "cell_type": "code",
   "execution_count": 4,
   "id": "fe30eac7-97f0-48a4-985b-ca00fea63966",
   "metadata": {},
   "outputs": [
    {
     "name": "stdout",
     "output_type": "stream",
     "text": [
      "Requirement already satisfied: webdriver-manager in c:\\users\\25670\\anaconda3\\envs\\venv_20th_century\\lib\\site-packages (4.0.2)\n",
      "Requirement already satisfied: requests in c:\\users\\25670\\anaconda3\\envs\\venv_20th_century\\lib\\site-packages (from webdriver-manager) (2.32.3)\n",
      "Requirement already satisfied: python-dotenv in c:\\users\\25670\\anaconda3\\envs\\venv_20th_century\\lib\\site-packages (from webdriver-manager) (1.0.1)\n",
      "Requirement already satisfied: packaging in c:\\users\\25670\\anaconda3\\envs\\venv_20th_century\\lib\\site-packages (from webdriver-manager) (24.2)\n",
      "Requirement already satisfied: charset-normalizer<4,>=2 in c:\\users\\25670\\anaconda3\\envs\\venv_20th_century\\lib\\site-packages (from requests->webdriver-manager) (3.4.1)\n",
      "Requirement already satisfied: idna<4,>=2.5 in c:\\users\\25670\\anaconda3\\envs\\venv_20th_century\\lib\\site-packages (from requests->webdriver-manager) (3.10)\n",
      "Requirement already satisfied: urllib3<3,>=1.21.1 in c:\\users\\25670\\anaconda3\\envs\\venv_20th_century\\lib\\site-packages (from requests->webdriver-manager) (1.26.20)\n",
      "Requirement already satisfied: certifi>=2017.4.17 in c:\\users\\25670\\anaconda3\\envs\\venv_20th_century\\lib\\site-packages (from requests->webdriver-manager) (2024.12.14)\n"
     ]
    }
   ],
   "source": [
    "!pip install webdriver-manager\n"
   ]
  },
  {
   "cell_type": "markdown",
   "id": "323f5c68-4dfb-4bf3-b236-410fdbdfe7e4",
   "metadata": {},
   "source": [
    "### I downloaded it and saved under Drivers"
   ]
  },
  {
   "cell_type": "code",
   "execution_count": 5,
   "id": "0a95911e-1b7b-4da8-a972-934e7bde7a1f",
   "metadata": {},
   "outputs": [
    {
     "name": "stdout",
     "output_type": "stream",
     "text": [
      "Requirement already satisfied: selenium in c:\\users\\25670\\anaconda3\\envs\\venv_20th_century\\lib\\site-packages (4.0.0)\n",
      "Collecting selenium\n",
      "  Using cached selenium-4.27.1-py3-none-any.whl.metadata (7.1 kB)\n",
      "Requirement already satisfied: urllib3<3,>=1.26 in c:\\users\\25670\\anaconda3\\envs\\venv_20th_century\\lib\\site-packages (from urllib3[socks]<3,>=1.26->selenium) (1.26.20)\n",
      "Requirement already satisfied: trio~=0.17 in c:\\users\\25670\\anaconda3\\envs\\venv_20th_century\\lib\\site-packages (from selenium) (0.28.0)\n",
      "Requirement already satisfied: trio-websocket~=0.9 in c:\\users\\25670\\anaconda3\\envs\\venv_20th_century\\lib\\site-packages (from selenium) (0.11.1)\n",
      "Requirement already satisfied: certifi>=2021.10.8 in c:\\users\\25670\\anaconda3\\envs\\venv_20th_century\\lib\\site-packages (from selenium) (2024.12.14)\n",
      "Requirement already satisfied: typing_extensions~=4.9 in c:\\users\\25670\\anaconda3\\envs\\venv_20th_century\\lib\\site-packages (from selenium) (4.12.2)\n",
      "Requirement already satisfied: websocket-client~=1.8 in c:\\users\\25670\\anaconda3\\envs\\venv_20th_century\\lib\\site-packages (from selenium) (1.8.0)\n",
      "Requirement already satisfied: attrs>=23.2.0 in c:\\users\\25670\\anaconda3\\envs\\venv_20th_century\\lib\\site-packages (from trio~=0.17->selenium) (24.3.0)\n",
      "Requirement already satisfied: sortedcontainers in c:\\users\\25670\\anaconda3\\envs\\venv_20th_century\\lib\\site-packages (from trio~=0.17->selenium) (2.4.0)\n",
      "Requirement already satisfied: idna in c:\\users\\25670\\anaconda3\\envs\\venv_20th_century\\lib\\site-packages (from trio~=0.17->selenium) (3.10)\n",
      "Requirement already satisfied: outcome in c:\\users\\25670\\anaconda3\\envs\\venv_20th_century\\lib\\site-packages (from trio~=0.17->selenium) (1.3.0.post0)\n",
      "Requirement already satisfied: sniffio>=1.3.0 in c:\\users\\25670\\anaconda3\\envs\\venv_20th_century\\lib\\site-packages (from trio~=0.17->selenium) (1.3.1)\n",
      "Requirement already satisfied: cffi>=1.14 in c:\\users\\25670\\anaconda3\\envs\\venv_20th_century\\lib\\site-packages (from trio~=0.17->selenium) (1.17.1)\n",
      "Requirement already satisfied: wsproto>=0.14 in c:\\users\\25670\\anaconda3\\envs\\venv_20th_century\\lib\\site-packages (from trio-websocket~=0.9->selenium) (1.2.0)\n",
      "Requirement already satisfied: PySocks!=1.5.7,<2.0,>=1.5.6 in c:\\users\\25670\\anaconda3\\envs\\venv_20th_century\\lib\\site-packages (from urllib3[socks]<3,>=1.26->selenium) (1.7.1)\n",
      "Requirement already satisfied: pycparser in c:\\users\\25670\\anaconda3\\envs\\venv_20th_century\\lib\\site-packages (from cffi>=1.14->trio~=0.17->selenium) (2.22)\n",
      "Requirement already satisfied: h11<1,>=0.9.0 in c:\\users\\25670\\anaconda3\\envs\\venv_20th_century\\lib\\site-packages (from wsproto>=0.14->trio-websocket~=0.9->selenium) (0.14.0)\n",
      "Using cached selenium-4.27.1-py3-none-any.whl (9.7 MB)\n",
      "Installing collected packages: selenium\n",
      "  Attempting uninstall: selenium\n",
      "    Found existing installation: selenium 4.0.0\n",
      "    Uninstalling selenium-4.0.0:\n",
      "      Successfully uninstalled selenium-4.0.0\n",
      "Successfully installed selenium-4.27.1\n",
      "Note: you may need to restart the kernel to use updated packages.\n"
     ]
    }
   ],
   "source": [
    "pip install --upgrade selenium"
   ]
  },
  {
   "cell_type": "code",
   "execution_count": 6,
   "id": "86e7447c-c0a0-41c5-bb32-60bb94fd980e",
   "metadata": {},
   "outputs": [
    {
     "name": "stdout",
     "output_type": "stream",
     "text": [
      "Collecting selenium==4.0.0\n",
      "  Using cached selenium-4.0.0-py3-none-any.whl.metadata (6.5 kB)\n",
      "Requirement already satisfied: urllib3~=1.26 in c:\\users\\25670\\anaconda3\\envs\\venv_20th_century\\lib\\site-packages (from urllib3[secure]~=1.26->selenium==4.0.0) (1.26.20)\n",
      "Requirement already satisfied: trio~=0.17 in c:\\users\\25670\\anaconda3\\envs\\venv_20th_century\\lib\\site-packages (from selenium==4.0.0) (0.28.0)\n",
      "Requirement already satisfied: trio-websocket~=0.9 in c:\\users\\25670\\anaconda3\\envs\\venv_20th_century\\lib\\site-packages (from selenium==4.0.0) (0.11.1)\n",
      "Requirement already satisfied: attrs>=23.2.0 in c:\\users\\25670\\anaconda3\\envs\\venv_20th_century\\lib\\site-packages (from trio~=0.17->selenium==4.0.0) (24.3.0)\n",
      "Requirement already satisfied: sortedcontainers in c:\\users\\25670\\anaconda3\\envs\\venv_20th_century\\lib\\site-packages (from trio~=0.17->selenium==4.0.0) (2.4.0)\n",
      "Requirement already satisfied: idna in c:\\users\\25670\\anaconda3\\envs\\venv_20th_century\\lib\\site-packages (from trio~=0.17->selenium==4.0.0) (3.10)\n",
      "Requirement already satisfied: outcome in c:\\users\\25670\\anaconda3\\envs\\venv_20th_century\\lib\\site-packages (from trio~=0.17->selenium==4.0.0) (1.3.0.post0)\n",
      "Requirement already satisfied: sniffio>=1.3.0 in c:\\users\\25670\\anaconda3\\envs\\venv_20th_century\\lib\\site-packages (from trio~=0.17->selenium==4.0.0) (1.3.1)\n",
      "Requirement already satisfied: cffi>=1.14 in c:\\users\\25670\\anaconda3\\envs\\venv_20th_century\\lib\\site-packages (from trio~=0.17->selenium==4.0.0) (1.17.1)\n",
      "Requirement already satisfied: wsproto>=0.14 in c:\\users\\25670\\anaconda3\\envs\\venv_20th_century\\lib\\site-packages (from trio-websocket~=0.9->selenium==4.0.0) (1.2.0)\n",
      "Requirement already satisfied: pyOpenSSL>=0.14 in c:\\users\\25670\\anaconda3\\envs\\venv_20th_century\\lib\\site-packages (from urllib3[secure]~=1.26->selenium==4.0.0) (24.3.0)\n",
      "Requirement already satisfied: cryptography>=1.3.4 in c:\\users\\25670\\anaconda3\\envs\\venv_20th_century\\lib\\site-packages (from urllib3[secure]~=1.26->selenium==4.0.0) (44.0.0)\n",
      "Requirement already satisfied: certifi in c:\\users\\25670\\anaconda3\\envs\\venv_20th_century\\lib\\site-packages (from urllib3[secure]~=1.26->selenium==4.0.0) (2024.12.14)\n",
      "Requirement already satisfied: urllib3-secure-extra in c:\\users\\25670\\anaconda3\\envs\\venv_20th_century\\lib\\site-packages (from urllib3[secure]~=1.26->selenium==4.0.0) (0.1.0)\n",
      "Requirement already satisfied: pycparser in c:\\users\\25670\\anaconda3\\envs\\venv_20th_century\\lib\\site-packages (from cffi>=1.14->trio~=0.17->selenium==4.0.0) (2.22)\n",
      "Requirement already satisfied: h11<1,>=0.9.0 in c:\\users\\25670\\anaconda3\\envs\\venv_20th_century\\lib\\site-packages (from wsproto>=0.14->trio-websocket~=0.9->selenium==4.0.0) (0.14.0)\n",
      "Using cached selenium-4.0.0-py3-none-any.whl (954 kB)\n",
      "Installing collected packages: selenium\n",
      "  Attempting uninstall: selenium\n",
      "    Found existing installation: selenium 4.27.1\n",
      "    Uninstalling selenium-4.27.1:\n",
      "      Successfully uninstalled selenium-4.27.1\n",
      "Successfully installed selenium-4.0.0\n",
      "Note: you may need to restart the kernel to use updated packages.\n"
     ]
    }
   ],
   "source": [
    "pip install --upgrade selenium==4.0.0"
   ]
  },
  {
   "cell_type": "code",
   "execution_count": null,
   "id": "e22b5a2c-16a0-4af5-940b-3510cfceb9ae",
   "metadata": {},
   "outputs": [],
   "source": [
    "import selenium\n",
    "print(selenium.__version__)"
   ]
  },
  {
   "cell_type": "code",
   "execution_count": 8,
   "id": "af4165d0-0c7a-48c6-b69a-bad63887224a",
   "metadata": {},
   "outputs": [],
   "source": [
    "from selenium import webdriver\n",
    "from selenium.webdriver.chrome.service import Service\n",
    "from webdriver_manager.chrome import ChromeDriverManager\n",
    "from selenium.webdriver.chrome.options import Options\n",
    "from selenium.webdriver.common.by import By"
   ]
  },
  {
   "cell_type": "code",
   "execution_count": 11,
   "id": "45f9e8f1-456e-4819-846a-2a5e637fa628",
   "metadata": {},
   "outputs": [
    {
     "name": "stdout",
     "output_type": "stream",
     "text": [
      "Collecting matplotlib\n",
      "  Downloading matplotlib-3.10.0-cp312-cp312-win_amd64.whl.metadata (11 kB)\n",
      "Collecting contourpy>=1.0.1 (from matplotlib)\n",
      "  Downloading contourpy-1.3.1-cp312-cp312-win_amd64.whl.metadata (5.4 kB)\n",
      "Collecting cycler>=0.10 (from matplotlib)\n",
      "  Downloading cycler-0.12.1-py3-none-any.whl.metadata (3.8 kB)\n",
      "Collecting fonttools>=4.22.0 (from matplotlib)\n",
      "  Downloading fonttools-4.55.3-cp312-cp312-win_amd64.whl.metadata (168 kB)\n",
      "Collecting kiwisolver>=1.3.1 (from matplotlib)\n",
      "  Downloading kiwisolver-1.4.8-cp312-cp312-win_amd64.whl.metadata (6.3 kB)\n",
      "Requirement already satisfied: numpy>=1.23 in c:\\users\\25670\\anaconda3\\envs\\venv_20th_century\\lib\\site-packages (from matplotlib) (2.2.1)\n",
      "Requirement already satisfied: packaging>=20.0 in c:\\users\\25670\\anaconda3\\envs\\venv_20th_century\\lib\\site-packages (from matplotlib) (24.2)\n",
      "Collecting pillow>=8 (from matplotlib)\n",
      "  Downloading pillow-11.1.0-cp312-cp312-win_amd64.whl.metadata (9.3 kB)\n",
      "Collecting pyparsing>=2.3.1 (from matplotlib)\n",
      "  Downloading pyparsing-3.2.1-py3-none-any.whl.metadata (5.0 kB)\n",
      "Requirement already satisfied: python-dateutil>=2.7 in c:\\users\\25670\\anaconda3\\envs\\venv_20th_century\\lib\\site-packages (from matplotlib) (2.9.0.post0)\n",
      "Requirement already satisfied: six>=1.5 in c:\\users\\25670\\anaconda3\\envs\\venv_20th_century\\lib\\site-packages (from python-dateutil>=2.7->matplotlib) (1.16.0)\n",
      "Downloading matplotlib-3.10.0-cp312-cp312-win_amd64.whl (8.0 MB)\n",
      "   ---------------------------------------- 0.0/8.0 MB ? eta -:--:--\n",
      "   -- ------------------------------------- 0.5/8.0 MB 3.4 MB/s eta 0:00:03\n",
      "   ------ --------------------------------- 1.3/8.0 MB 3.4 MB/s eta 0:00:03\n",
      "   --------- ------------------------------ 1.8/8.0 MB 3.4 MB/s eta 0:00:02\n",
      "   ------------- -------------------------- 2.6/8.0 MB 3.4 MB/s eta 0:00:02\n",
      "   ---------------- ----------------------- 3.4/8.0 MB 3.5 MB/s eta 0:00:02\n",
      "   -------------------- ------------------- 4.2/8.0 MB 3.5 MB/s eta 0:00:02\n",
      "   ----------------------- ---------------- 4.7/8.0 MB 3.5 MB/s eta 0:00:01\n",
      "   --------------------------- ------------ 5.5/8.0 MB 3.5 MB/s eta 0:00:01\n",
      "   ----------------------------- ---------- 6.0/8.0 MB 3.5 MB/s eta 0:00:01\n",
      "   --------------------------------- ------ 6.8/8.0 MB 3.4 MB/s eta 0:00:01\n",
      "   ------------------------------------- -- 7.6/8.0 MB 3.4 MB/s eta 0:00:01\n",
      "   ---------------------------------------- 8.0/8.0 MB 3.4 MB/s eta 0:00:00\n",
      "Downloading contourpy-1.3.1-cp312-cp312-win_amd64.whl (220 kB)\n",
      "Downloading cycler-0.12.1-py3-none-any.whl (8.3 kB)\n",
      "Downloading fonttools-4.55.3-cp312-cp312-win_amd64.whl (2.2 MB)\n",
      "   ---------------------------------------- 0.0/2.2 MB ? eta -:--:--\n",
      "   --------- ------------------------------ 0.5/2.2 MB 3.3 MB/s eta 0:00:01\n",
      "   ------------------ --------------------- 1.0/2.2 MB 3.6 MB/s eta 0:00:01\n",
      "   ---------------------------- ----------- 1.6/2.2 MB 2.6 MB/s eta 0:00:01\n",
      "   ---------------------------------------- 2.2/2.2 MB 2.8 MB/s eta 0:00:00\n",
      "Downloading kiwisolver-1.4.8-cp312-cp312-win_amd64.whl (71 kB)\n",
      "Downloading pillow-11.1.0-cp312-cp312-win_amd64.whl (2.6 MB)\n",
      "   ---------------------------------------- 0.0/2.6 MB ? eta -:--:--\n",
      "   ----------- ---------------------------- 0.8/2.6 MB 5.6 MB/s eta 0:00:01\n",
      "   --------------------------- ------------ 1.8/2.6 MB 5.0 MB/s eta 0:00:01\n",
      "   ---------------------------------------- 2.6/2.6 MB 4.7 MB/s eta 0:00:00\n",
      "Downloading pyparsing-3.2.1-py3-none-any.whl (107 kB)\n",
      "Installing collected packages: pyparsing, pillow, kiwisolver, fonttools, cycler, contourpy, matplotlib\n",
      "Successfully installed contourpy-1.3.1 cycler-0.12.1 fonttools-4.55.3 kiwisolver-1.4.8 matplotlib-3.10.0 pillow-11.1.0 pyparsing-3.2.1\n"
     ]
    }
   ],
   "source": [
    "!pip install matplotlib"
   ]
  },
  {
   "cell_type": "code",
   "execution_count": 12,
   "id": "d68da521-8539-4ba6-b082-39be49fa70b2",
   "metadata": {},
   "outputs": [],
   "source": [
    "# Import libraries\n",
    "\n",
    "import pandas as pd\n",
    "import time\n",
    "from selenium import webdriver\n",
    "from webdriver_manager.chrome import ChromeDriverManager\n",
    "from selenium.webdriver.common.by import By\n",
    "from selenium.webdriver.chrome.service import Service\n",
    "from selenium.webdriver.chrome.options import Options\n",
    "import matplotlib.pyplot as plt \n",
    "import os\n",
    "import logging"
   ]
  },
  {
   "cell_type": "code",
   "execution_count": 26,
   "id": "33d1486f-3295-4aa5-a8c5-d0696b91e716",
   "metadata": {},
   "outputs": [],
   "source": [
    "from selenium import webdriver\n",
    "from selenium.webdriver.chrome.service import Service\n",
    "\n",
    "# Create a Service object with the path to chromedriver\n",
    "service = Service(r'C:\\Webdrivers\\chromedriver.exe')\n",
    "\n",
    "# Pass the service object to the webdriver\n",
    "driver = webdriver.Chrome(service=service)\n"
   ]
  },
  {
   "cell_type": "code",
   "execution_count": 27,
   "id": "192afa6f-7c9a-46e2-9d82-8194384e2d61",
   "metadata": {},
   "outputs": [],
   "source": [
    "# Get the page’s contents\n",
    "\n",
    "page_url = \"https://en.wikipedia.org/wiki/Key_events_of_the_20th_century\"\n",
    "driver.get(page_url)"
   ]
  },
  {
   "cell_type": "code",
   "execution_count": 18,
   "id": "a055a58d-02f0-4031-b6a8-c96325fd3e46",
   "metadata": {},
   "outputs": [],
   "source": [
    "# Create a collection of the characters\n",
    "\n",
    "characters_elems = driver.find_elements(by = By.CLASS_NAME, value = 'div-col')"
   ]
  },
  {
   "cell_type": "code",
   "execution_count": 20,
   "id": "0be3d451-db0a-4483-bf87-f1fb089d84ff",
   "metadata": {},
   "outputs": [
    {
     "name": "stdout",
     "output_type": "stream",
     "text": [
      "No elements found.\n"
     ]
    }
   ],
   "source": [
    "character_elems = driver.find_elements(By.CLASS_NAME, 'character')\n",
    "\n",
    "if character_elems:\n",
    "    print(character_elems[0].text)\n",
    "else:\n",
    "    print(\"No elements found.\")"
   ]
  },
  {
   "cell_type": "code",
   "execution_count": 22,
   "id": "ba9be3c1-8e8e-4916-86e0-378dcfb0a6d5",
   "metadata": {},
   "outputs": [
    {
     "name": "stdout",
     "output_type": "stream",
     "text": [
      "Collecting pycountry\n",
      "  Downloading pycountry-24.6.1-py3-none-any.whl.metadata (12 kB)\n",
      "Downloading pycountry-24.6.1-py3-none-any.whl (6.3 MB)\n",
      "   ---------------------------------------- 0.0/6.3 MB ? eta -:--:--\n",
      "   --------- ------------------------------ 1.6/6.3 MB 7.6 MB/s eta 0:00:01\n",
      "   ------------- -------------------------- 2.1/6.3 MB 7.8 MB/s eta 0:00:01\n",
      "   ------------- -------------------------- 2.1/6.3 MB 7.8 MB/s eta 0:00:01\n",
      "   ---------------- ----------------------- 2.6/6.3 MB 3.0 MB/s eta 0:00:02\n",
      "   ------------------------ --------------- 3.9/6.3 MB 3.9 MB/s eta 0:00:01\n",
      "   ------------------------ --------------- 3.9/6.3 MB 3.9 MB/s eta 0:00:01\n",
      "   ------------------------ --------------- 3.9/6.3 MB 3.9 MB/s eta 0:00:01\n",
      "   ------------------------ --------------- 3.9/6.3 MB 3.9 MB/s eta 0:00:01\n",
      "   ------------------------ --------------- 3.9/6.3 MB 3.9 MB/s eta 0:00:01\n",
      "   ------------------------ --------------- 3.9/6.3 MB 3.9 MB/s eta 0:00:01\n",
      "   ------------------------ --------------- 3.9/6.3 MB 3.9 MB/s eta 0:00:01\n",
      "   -------------------------- ------------- 4.2/6.3 MB 1.7 MB/s eta 0:00:02\n",
      "   ----------------------------- ---------- 4.7/6.3 MB 1.7 MB/s eta 0:00:01\n",
      "   ---------------------------------- ----- 5.5/6.3 MB 1.9 MB/s eta 0:00:01\n",
      "   ---------------------------------- ----- 5.5/6.3 MB 1.9 MB/s eta 0:00:01\n",
      "   ---------------------------------- ----- 5.5/6.3 MB 1.9 MB/s eta 0:00:01\n",
      "   ------------------------------------ --- 5.8/6.3 MB 1.7 MB/s eta 0:00:01\n",
      "   ------------------------------------ --- 5.8/6.3 MB 1.7 MB/s eta 0:00:01\n",
      "   -------------------------------------- - 6.0/6.3 MB 1.5 MB/s eta 0:00:01\n",
      "   ---------------------------------------- 6.3/6.3 MB 1.5 MB/s eta 0:00:00\n",
      "Installing collected packages: pycountry\n",
      "Successfully installed pycountry-24.6.1\n"
     ]
    }
   ],
   "source": [
    "!pip install pycountry"
   ]
  },
  {
   "cell_type": "code",
   "execution_count": 24,
   "id": "081cd9a1-6ccd-4983-8c15-0e8b19653eb0",
   "metadata": {},
   "outputs": [
    {
     "name": "stdout",
     "output_type": "stream",
     "text": [
      "Collecting beautifulsoup4Note: you may need to restart the kernel to use updated packages.\n",
      "\n",
      "  Downloading beautifulsoup4-4.12.3-py3-none-any.whl.metadata (3.8 kB)\n",
      "Collecting soupsieve>1.2 (from beautifulsoup4)\n",
      "  Downloading soupsieve-2.6-py3-none-any.whl.metadata (4.6 kB)\n",
      "Downloading beautifulsoup4-4.12.3-py3-none-any.whl (147 kB)\n",
      "Downloading soupsieve-2.6-py3-none-any.whl (36 kB)\n",
      "Installing collected packages: soupsieve, beautifulsoup4\n",
      "Successfully installed beautifulsoup4-4.12.3 soupsieve-2.6\n"
     ]
    }
   ],
   "source": [
    "pip install beautifulsoup4"
   ]
  },
  {
   "cell_type": "markdown",
   "id": "79e3e289-4faa-41f5-9e2f-7e46308ec403",
   "metadata": {},
   "source": [
    "### Element 1\n",
    "#Countries Lookup list"
   ]
  },
  {
   "cell_type": "code",
   "execution_count": 28,
   "id": "a66ebccc-9ba0-412a-bc99-9da00185766a",
   "metadata": {},
   "outputs": [
    {
     "name": "stdout",
     "output_type": "stream",
     "text": [
      "['Afghanistan', 'Albania', 'Algeria', 'Angola', 'Australia', 'Austria', 'Bangladesh', 'Belarus', 'Belgium', 'Bulgaria', 'Cambodia', 'Canada', 'China', 'Congo', 'Cuba', 'Denmark', 'Egypt', 'Estonia', 'Finland', 'France', 'Germany', 'Ghana', 'Greece', 'Guam', 'Guinea', 'Hong kong', 'Hungary', 'India', 'Iraq', 'Israel', 'Italy', 'Japan', 'Kenya', 'Latvia', 'Lebanon', 'Libya', 'Lithuania', 'Luxembourg', 'Mexico', 'Mongolia', 'Morocco', 'Mozambique', 'Netherlands', 'Norway', 'Pakistan', 'Panama', 'Philippines', 'Poland', 'Romania', 'Seychelles', 'Singapore', 'Solomon islands', 'South africa', 'Spain', 'Sweden', 'Thailand', 'Ukraine', 'United kingdom', 'United states']\n"
     ]
    }
   ],
   "source": [
    "from selenium import webdriver\n",
    "from selenium.webdriver.chrome.service import Service\n",
    "from selenium.webdriver.common.by import By\n",
    "import time\n",
    "import pycountry\n",
    "import re\n",
    "\n",
    "# Set up Selenium WebDriver (make sure to use the correct path for ChromeDriver)\n",
    "service = Service(r'C:\\Webdrivers\\chromedriver.exe')\n",
    "driver = webdriver.Chrome(service=service)\n",
    "\n",
    "# URL of the Wikipedia page\n",
    "url = \"https://en.wikipedia.org/wiki/Key_events_of_the_20th_century\"\n",
    "\n",
    "# Open the webpage\n",
    "driver.get(url)\n",
    "\n",
    "# Optionally, wait for dynamic content to load\n",
    "time.sleep(3)  # Wait for 3 seconds to ensure JavaScript has loaded the content\n",
    "\n",
    "# Get page source after JavaScript execution\n",
    "html = driver.page_source\n",
    "\n",
    "# Parse the HTML with BeautifulSoup\n",
    "from bs4 import BeautifulSoup\n",
    "soup = BeautifulSoup(html, 'html.parser')\n",
    "\n",
    "# Create a set to store countries (to avoid duplicates)\n",
    "countries = set()\n",
    "\n",
    "# Get a list of all country names from pycountry\n",
    "country_names = [country.name.lower() for country in pycountry.countries]\n",
    "\n",
    "# Find all paragraphs or list items where countries might be mentioned\n",
    "paragraphs = soup.find_all(['p', 'li'])\n",
    "\n",
    "# Define a regular expression pattern to match country names\n",
    "country_regex = r'\\b(?:' + '|'.join([re.escape(country) for country in country_names]) + r')\\b'\n",
    "\n",
    "# Loop through each paragraph and check for country names\n",
    "for para in paragraphs:\n",
    "    text = para.get_text().lower()  # Convert to lowercase for case-insensitive matching\n",
    "    matches = re.findall(country_regex, text)\n",
    "    for match in matches:\n",
    "        countries.add(match.capitalize())  # Capitalize the country name for consistency\n",
    "\n",
    "# Convert set to sorted list\n",
    "countries_list = sorted(countries)\n",
    "\n",
    "# Print the list of countries\n",
    "print(countries_list)"
   ]
  },
  {
   "cell_type": "code",
   "execution_count": 29,
   "id": "64fd35bf-50dd-4241-9c7d-ae0a9f27868c",
   "metadata": {},
   "outputs": [
    {
     "data": {
      "text/plain": [
       "['Afghanistan',\n",
       " 'Albania',\n",
       " 'Algeria',\n",
       " 'Angola',\n",
       " 'Australia',\n",
       " 'Austria',\n",
       " 'Bangladesh',\n",
       " 'Belarus',\n",
       " 'Belgium',\n",
       " 'Bulgaria',\n",
       " 'Cambodia',\n",
       " 'Canada',\n",
       " 'China',\n",
       " 'Congo',\n",
       " 'Cuba',\n",
       " 'Denmark',\n",
       " 'Egypt',\n",
       " 'Estonia',\n",
       " 'Finland',\n",
       " 'France',\n",
       " 'Germany',\n",
       " 'Ghana',\n",
       " 'Greece',\n",
       " 'Guam',\n",
       " 'Guinea',\n",
       " 'Hong kong',\n",
       " 'Hungary',\n",
       " 'India',\n",
       " 'Iraq',\n",
       " 'Israel',\n",
       " 'Italy',\n",
       " 'Japan',\n",
       " 'Kenya',\n",
       " 'Latvia',\n",
       " 'Lebanon',\n",
       " 'Libya',\n",
       " 'Lithuania',\n",
       " 'Luxembourg',\n",
       " 'Mexico',\n",
       " 'Mongolia',\n",
       " 'Morocco',\n",
       " 'Mozambique',\n",
       " 'Netherlands',\n",
       " 'Norway',\n",
       " 'Pakistan',\n",
       " 'Panama',\n",
       " 'Philippines',\n",
       " 'Poland',\n",
       " 'Romania',\n",
       " 'Seychelles',\n",
       " 'Singapore',\n",
       " 'Solomon islands',\n",
       " 'South africa',\n",
       " 'Spain',\n",
       " 'Sweden',\n",
       " 'Thailand',\n",
       " 'Ukraine',\n",
       " 'United kingdom',\n",
       " 'United states']"
      ]
     },
     "metadata": {},
     "output_type": "display_data"
    }
   ],
   "source": [
    "from IPython.display import display\n",
    "display(countries_list)"
   ]
  },
  {
   "cell_type": "code",
   "execution_count": 34,
   "id": "2585ca68-7a3f-44ea-967f-a021bbfef9d6",
   "metadata": {},
   "outputs": [
    {
     "data": {
      "text/html": [
       "<div>\n",
       "<style scoped>\n",
       "    .dataframe tbody tr th:only-of-type {\n",
       "        vertical-align: middle;\n",
       "    }\n",
       "\n",
       "    .dataframe tbody tr th {\n",
       "        vertical-align: top;\n",
       "    }\n",
       "\n",
       "    .dataframe thead th {\n",
       "        text-align: right;\n",
       "    }\n",
       "</style>\n",
       "<table border=\"1\" class=\"dataframe\">\n",
       "  <thead>\n",
       "    <tr style=\"text-align: right;\">\n",
       "      <th></th>\n",
       "      <th>COUNTRIES</th>\n",
       "    </tr>\n",
       "  </thead>\n",
       "  <tbody>\n",
       "    <tr>\n",
       "      <th>0</th>\n",
       "      <td>Afghanistan</td>\n",
       "    </tr>\n",
       "    <tr>\n",
       "      <th>1</th>\n",
       "      <td>Albania</td>\n",
       "    </tr>\n",
       "    <tr>\n",
       "      <th>2</th>\n",
       "      <td>Algeria</td>\n",
       "    </tr>\n",
       "    <tr>\n",
       "      <th>3</th>\n",
       "      <td>Angola</td>\n",
       "    </tr>\n",
       "    <tr>\n",
       "      <th>4</th>\n",
       "      <td>Australia</td>\n",
       "    </tr>\n",
       "    <tr>\n",
       "      <th>5</th>\n",
       "      <td>Austria</td>\n",
       "    </tr>\n",
       "    <tr>\n",
       "      <th>6</th>\n",
       "      <td>Bangladesh</td>\n",
       "    </tr>\n",
       "    <tr>\n",
       "      <th>7</th>\n",
       "      <td>Belarus</td>\n",
       "    </tr>\n",
       "    <tr>\n",
       "      <th>8</th>\n",
       "      <td>Belgium</td>\n",
       "    </tr>\n",
       "    <tr>\n",
       "      <th>9</th>\n",
       "      <td>Bulgaria</td>\n",
       "    </tr>\n",
       "    <tr>\n",
       "      <th>10</th>\n",
       "      <td>Cambodia</td>\n",
       "    </tr>\n",
       "    <tr>\n",
       "      <th>11</th>\n",
       "      <td>Canada</td>\n",
       "    </tr>\n",
       "    <tr>\n",
       "      <th>12</th>\n",
       "      <td>China</td>\n",
       "    </tr>\n",
       "    <tr>\n",
       "      <th>13</th>\n",
       "      <td>Congo</td>\n",
       "    </tr>\n",
       "    <tr>\n",
       "      <th>14</th>\n",
       "      <td>Cuba</td>\n",
       "    </tr>\n",
       "    <tr>\n",
       "      <th>15</th>\n",
       "      <td>Denmark</td>\n",
       "    </tr>\n",
       "    <tr>\n",
       "      <th>16</th>\n",
       "      <td>Egypt</td>\n",
       "    </tr>\n",
       "    <tr>\n",
       "      <th>17</th>\n",
       "      <td>Estonia</td>\n",
       "    </tr>\n",
       "    <tr>\n",
       "      <th>18</th>\n",
       "      <td>Finland</td>\n",
       "    </tr>\n",
       "    <tr>\n",
       "      <th>19</th>\n",
       "      <td>France</td>\n",
       "    </tr>\n",
       "    <tr>\n",
       "      <th>20</th>\n",
       "      <td>Germany</td>\n",
       "    </tr>\n",
       "    <tr>\n",
       "      <th>21</th>\n",
       "      <td>Ghana</td>\n",
       "    </tr>\n",
       "    <tr>\n",
       "      <th>22</th>\n",
       "      <td>Greece</td>\n",
       "    </tr>\n",
       "    <tr>\n",
       "      <th>23</th>\n",
       "      <td>Guam</td>\n",
       "    </tr>\n",
       "    <tr>\n",
       "      <th>24</th>\n",
       "      <td>Guinea</td>\n",
       "    </tr>\n",
       "    <tr>\n",
       "      <th>25</th>\n",
       "      <td>Hong kong</td>\n",
       "    </tr>\n",
       "    <tr>\n",
       "      <th>26</th>\n",
       "      <td>Hungary</td>\n",
       "    </tr>\n",
       "    <tr>\n",
       "      <th>27</th>\n",
       "      <td>India</td>\n",
       "    </tr>\n",
       "    <tr>\n",
       "      <th>28</th>\n",
       "      <td>Iraq</td>\n",
       "    </tr>\n",
       "    <tr>\n",
       "      <th>29</th>\n",
       "      <td>Israel</td>\n",
       "    </tr>\n",
       "    <tr>\n",
       "      <th>30</th>\n",
       "      <td>Italy</td>\n",
       "    </tr>\n",
       "    <tr>\n",
       "      <th>31</th>\n",
       "      <td>Japan</td>\n",
       "    </tr>\n",
       "    <tr>\n",
       "      <th>32</th>\n",
       "      <td>Kenya</td>\n",
       "    </tr>\n",
       "    <tr>\n",
       "      <th>33</th>\n",
       "      <td>Latvia</td>\n",
       "    </tr>\n",
       "    <tr>\n",
       "      <th>34</th>\n",
       "      <td>Lebanon</td>\n",
       "    </tr>\n",
       "    <tr>\n",
       "      <th>35</th>\n",
       "      <td>Libya</td>\n",
       "    </tr>\n",
       "    <tr>\n",
       "      <th>36</th>\n",
       "      <td>Lithuania</td>\n",
       "    </tr>\n",
       "    <tr>\n",
       "      <th>37</th>\n",
       "      <td>Luxembourg</td>\n",
       "    </tr>\n",
       "    <tr>\n",
       "      <th>38</th>\n",
       "      <td>Mexico</td>\n",
       "    </tr>\n",
       "    <tr>\n",
       "      <th>39</th>\n",
       "      <td>Mongolia</td>\n",
       "    </tr>\n",
       "    <tr>\n",
       "      <th>40</th>\n",
       "      <td>Morocco</td>\n",
       "    </tr>\n",
       "    <tr>\n",
       "      <th>41</th>\n",
       "      <td>Mozambique</td>\n",
       "    </tr>\n",
       "    <tr>\n",
       "      <th>42</th>\n",
       "      <td>Netherlands</td>\n",
       "    </tr>\n",
       "    <tr>\n",
       "      <th>43</th>\n",
       "      <td>Norway</td>\n",
       "    </tr>\n",
       "    <tr>\n",
       "      <th>44</th>\n",
       "      <td>Pakistan</td>\n",
       "    </tr>\n",
       "    <tr>\n",
       "      <th>45</th>\n",
       "      <td>Panama</td>\n",
       "    </tr>\n",
       "    <tr>\n",
       "      <th>46</th>\n",
       "      <td>Philippines</td>\n",
       "    </tr>\n",
       "    <tr>\n",
       "      <th>47</th>\n",
       "      <td>Poland</td>\n",
       "    </tr>\n",
       "    <tr>\n",
       "      <th>48</th>\n",
       "      <td>Romania</td>\n",
       "    </tr>\n",
       "    <tr>\n",
       "      <th>49</th>\n",
       "      <td>Seychelles</td>\n",
       "    </tr>\n",
       "    <tr>\n",
       "      <th>50</th>\n",
       "      <td>Singapore</td>\n",
       "    </tr>\n",
       "    <tr>\n",
       "      <th>51</th>\n",
       "      <td>Solomon islands</td>\n",
       "    </tr>\n",
       "    <tr>\n",
       "      <th>52</th>\n",
       "      <td>South africa</td>\n",
       "    </tr>\n",
       "    <tr>\n",
       "      <th>53</th>\n",
       "      <td>Spain</td>\n",
       "    </tr>\n",
       "    <tr>\n",
       "      <th>54</th>\n",
       "      <td>Sweden</td>\n",
       "    </tr>\n",
       "    <tr>\n",
       "      <th>55</th>\n",
       "      <td>Thailand</td>\n",
       "    </tr>\n",
       "    <tr>\n",
       "      <th>56</th>\n",
       "      <td>Ukraine</td>\n",
       "    </tr>\n",
       "    <tr>\n",
       "      <th>57</th>\n",
       "      <td>United kingdom</td>\n",
       "    </tr>\n",
       "    <tr>\n",
       "      <th>58</th>\n",
       "      <td>United states</td>\n",
       "    </tr>\n",
       "  </tbody>\n",
       "</table>\n",
       "</div>"
      ],
      "text/plain": [
       "          COUNTRIES\n",
       "0       Afghanistan\n",
       "1           Albania\n",
       "2           Algeria\n",
       "3            Angola\n",
       "4         Australia\n",
       "5           Austria\n",
       "6        Bangladesh\n",
       "7           Belarus\n",
       "8           Belgium\n",
       "9          Bulgaria\n",
       "10         Cambodia\n",
       "11           Canada\n",
       "12            China\n",
       "13            Congo\n",
       "14             Cuba\n",
       "15          Denmark\n",
       "16            Egypt\n",
       "17          Estonia\n",
       "18          Finland\n",
       "19           France\n",
       "20          Germany\n",
       "21            Ghana\n",
       "22           Greece\n",
       "23             Guam\n",
       "24           Guinea\n",
       "25        Hong kong\n",
       "26          Hungary\n",
       "27            India\n",
       "28             Iraq\n",
       "29           Israel\n",
       "30            Italy\n",
       "31            Japan\n",
       "32            Kenya\n",
       "33           Latvia\n",
       "34          Lebanon\n",
       "35            Libya\n",
       "36        Lithuania\n",
       "37       Luxembourg\n",
       "38           Mexico\n",
       "39         Mongolia\n",
       "40          Morocco\n",
       "41       Mozambique\n",
       "42      Netherlands\n",
       "43           Norway\n",
       "44         Pakistan\n",
       "45           Panama\n",
       "46      Philippines\n",
       "47           Poland\n",
       "48          Romania\n",
       "49       Seychelles\n",
       "50        Singapore\n",
       "51  Solomon islands\n",
       "52     South africa\n",
       "53            Spain\n",
       "54           Sweden\n",
       "55         Thailand\n",
       "56          Ukraine\n",
       "57   United kingdom\n",
       "58    United states"
      ]
     },
     "execution_count": 34,
     "metadata": {},
     "output_type": "execute_result"
    }
   ],
   "source": [
    "# Put the characters into a dataframe\n",
    "\n",
    "df = pd.DataFrame(countries_list, columns = [\"COUNTRIES\"])\n",
    "\n",
    "df"
   ]
  },
  {
   "cell_type": "code",
   "execution_count": 39,
   "id": "fa333d90-7bd4-4e9e-a644-32bd3aed7f8c",
   "metadata": {},
   "outputs": [
    {
     "name": "stdout",
     "output_type": "stream",
     "text": [
      "Countries list saved to: C:\\Users\\25670\\20th-century\\20th-century\\CountriesList\\Countries_List.txt\n",
      "Countries list saved to: C:\\Users\\25670\\20th-century\\20th-century\\CountriesList\\Countries_List.csv\n"
     ]
    }
   ],
   "source": [
    "# Define the path to save the file (update this to your own desktop folder path)\n",
    "desktop_folder = r'C:\\Users\\25670\\20th-century\\20th-century\\CountriesList'  # Replace with your path\n",
    "file_path_txt = desktop_folder + r'\\Countries_List.txt'\n",
    "file_path_csv = desktop_folder + r'\\Countries_List.csv'\n",
    "\n",
    "# Save the list of countries to a .txt file\n",
    "with open(file_path_txt, \"w\", encoding=\"utf-8\") as f:\n",
    "    for country in countries_list:\n",
    "        f.write(f\"{country}\\n\")\n",
    "\n",
    "# Save the list to a CSV file (optional)\n",
    "df.to_csv(file_path_csv, index=False, encoding=\"utf-8\")\n",
    "\n",
    "# Print message confirming the file has been saved\n",
    "print(f\"Countries list saved to: {file_path_txt}\")\n",
    "print(f\"Countries list saved to: {file_path_csv}\")"
   ]
  },
  {
   "cell_type": "markdown",
   "id": "da4280ae-128f-4b68-99a3-39d5c949f334",
   "metadata": {},
   "source": [
    "### Element 2\n",
    "# The text source"
   ]
  },
  {
   "cell_type": "code",
   "execution_count": 35,
   "id": "a7787316-8aab-438b-b4df-4633584ae204",
   "metadata": {},
   "outputs": [
    {
     "name": "stdout",
     "output_type": "stream",
     "text": [
      "The 20th century changed the world in unprecedented ways. The World Wars sparked tension between countries and led to the creation of atomic bombs , the Cold War led to the Space Race and the creation of space-based rockets, and the World Wide Web was created. These advancements have played a significant role in citizens' lives and shaped the 21st century into what it is today. Historic events in the 20th century [ edit ] World at the beginning of the century [ edit ] Main article: Edwardian era The new beginning of the 20th century marked significant changes. The 1900s saw the decade herald a series of inventions, including the automobile , airplane and radio broadcasting . 1914 saw the completion of the Panama Canal . From 1914 to 1918, the First World War, and its aftermath, caused major changes in the power balance of the world, destroying or transforming some of the most powerful empires. \"The war to end all wars\": World War I (1914–1918) [ edit ] Main article: World War I Arrest \n"
     ]
    }
   ],
   "source": [
    "from selenium import webdriver\n",
    "from selenium.webdriver.chrome.service import Service\n",
    "import time\n",
    "from bs4 import BeautifulSoup\n",
    "\n",
    "# Set up Selenium WebDriver (make sure to use the correct path for ChromeDriver)\n",
    "service = Service(r'C:\\Webdrivers\\chromedriver.exe')  # Adjust path to chromedriver\n",
    "driver = webdriver.Chrome(service=service)\n",
    "\n",
    "# URL of the Wikipedia page\n",
    "url = \"https://en.wikipedia.org/wiki/Key_events_of_the_20th_century\"\n",
    "\n",
    "# Open the webpage\n",
    "driver.get(url)\n",
    "\n",
    "# Optionally, wait for dynamic content to load\n",
    "time.sleep(3)  # Wait for 3 seconds to ensure JavaScript has loaded the content\n",
    "\n",
    "# Get page source after JavaScript execution\n",
    "html = driver.page_source\n",
    "\n",
    "# Parse the HTML with BeautifulSoup\n",
    "soup = BeautifulSoup(html, 'html.parser')\n",
    "\n",
    "# Find the main content of the article, which is usually within 'mw-parser-output' div\n",
    "content_div = soup.find('div', class_='mw-parser-output')\n",
    "\n",
    "# Extract all the text from the content div\n",
    "text_content = content_div.get_text(separator=' ', strip=True)\n",
    "\n",
    "# Optionally, save the extracted text to a file\n",
    "with open(\"key_events_20th_century.txt\", \"w\", encoding=\"utf-8\") as f:\n",
    "    f.write(text_content)\n",
    "\n",
    "# Print the first 1000 characters of the extracted text to verify\n",
    "print(text_content[:1000])\n"
   ]
  },
  {
   "cell_type": "code",
   "execution_count": 40,
   "id": "d9ee92b2-43b5-4729-b5cf-19eea90ce567",
   "metadata": {},
   "outputs": [],
   "source": [
    "# Close the browser after scraping\n",
    "driver.quit()"
   ]
  },
  {
   "cell_type": "code",
   "execution_count": null,
   "id": "33087d96-ebfe-4c71-b796-939cc2861f91",
   "metadata": {},
   "outputs": [],
   "source": []
  }
 ],
 "metadata": {
  "kernelspec": {
   "display_name": "Python 3 (ipykernel)",
   "language": "python",
   "name": "python3"
  },
  "language_info": {
   "codemirror_mode": {
    "name": "ipython",
    "version": 3
   },
   "file_extension": ".py",
   "mimetype": "text/x-python",
   "name": "python",
   "nbconvert_exporter": "python",
   "pygments_lexer": "ipython3",
   "version": "3.12.8"
  }
 },
 "nbformat": 4,
 "nbformat_minor": 5
}
